{
  "nbformat": 4,
  "nbformat_minor": 0,
  "metadata": {
    "colab": {
      "private_outputs": true,
      "provenance": [],
      "authorship_tag": "ABX9TyO3O+x91Bn1rdOTOLBFrjEv",
      "include_colab_link": true
    },
    "kernelspec": {
      "name": "python3",
      "display_name": "Python 3"
    },
    "language_info": {
      "name": "python"
    }
  },
  "cells": [
    {
      "cell_type": "markdown",
      "metadata": {
        "id": "view-in-github",
        "colab_type": "text"
      },
      "source": [
        "<a href=\"https://colab.research.google.com/github/haydenhoopes/eda-wine-reviews/blob/main/EDA_on_Wine_Reviews_Key.ipynb\" target=\"_parent\"><img src=\"https://colab.research.google.com/assets/colab-badge.svg\" alt=\"Open In Colab\"/></a>"
      ]
    },
    {
      "cell_type": "markdown",
      "source": [
        "# Exploratory Data Analysis on Wine Reviews"
      ],
      "metadata": {
        "id": "CvrUPXzQLnqJ"
      }
    },
    {
      "cell_type": "code",
      "execution_count": null,
      "metadata": {
        "id": "TG59g7ZSLlYH"
      },
      "outputs": [],
      "source": [
        "import pandas as pd\n",
        "df = pd.read_csv('wine.csv')"
      ]
    },
    {
      "cell_type": "code",
      "source": [
        "df.loc[df['country'] == 'Italy']"
      ],
      "metadata": {
        "id": "tEuCE5S8VLv6"
      },
      "execution_count": null,
      "outputs": []
    },
    {
      "cell_type": "code",
      "source": [
        "# Which country produces wine with the most points, on average?\n",
        "df.groupby('country').agg({'points':'mean'}).sort_values(by='points')"
      ],
      "metadata": {
        "id": "zgGLA-mkMNcj"
      },
      "execution_count": null,
      "outputs": []
    },
    {
      "cell_type": "code",
      "source": [
        "# Which taster gives the lowest scores (points), on average?\n",
        "df.groupby('taster_name').agg({'points':'mean'}).sort_values(by='points')"
      ],
      "metadata": {
        "id": "qNQK0od7MeNG"
      },
      "execution_count": null,
      "outputs": []
    },
    {
      "cell_type": "code",
      "source": [
        "# Which variety of wine is the most expensive, on average?\n",
        "df.groupby('variety').agg({'price':'mean'}).sort_values(by='price', ascending=False)"
      ],
      "metadata": {
        "id": "1af1TqVgNIJG"
      },
      "execution_count": null,
      "outputs": []
    },
    {
      "cell_type": "code",
      "source": [
        "# Which year of wines has the best score (points), on average?\n",
        "df['year'] = df['title'].str.extract('(\\d{4})')[0]"
      ],
      "metadata": {
        "id": "FEw4Q2UvNcLL"
      },
      "execution_count": null,
      "outputs": []
    },
    {
      "cell_type": "code",
      "source": [
        "df.groupby('year').agg({'points':'mean'}).sort_values(by='points')"
      ],
      "metadata": {
        "id": "p0Kza8paVn1A"
      },
      "execution_count": null,
      "outputs": []
    },
    {
      "cell_type": "code",
      "source": [
        "# Reviews with the word \"depth\" get more points on average\n",
        "df['depth'] = df['description'].str.contains('depth')\n",
        "df.groupby('depth').agg({'points': 'mean'})"
      ],
      "metadata": {
        "id": "Ax2oJdWMVti_"
      },
      "execution_count": null,
      "outputs": []
    },
    {
      "cell_type": "code",
      "source": [
        "# Reviews with the word \"fruity\" get more points on average\n",
        "df['fruity'] = df['description'].str.contains('fruity')\n",
        "df.groupby('fruity').agg({'points': 'mean'})"
      ],
      "metadata": {
        "id": "T94Qsg2XWe70"
      },
      "execution_count": null,
      "outputs": []
    },
    {
      "cell_type": "code",
      "source": [
        "# Reviews with the word \"herbal\" get more points on average\n",
        "df['herbal'] = df['description'].str.contains('herbal')\n",
        "df.groupby('herbal').agg({'points': 'mean'})"
      ],
      "metadata": {
        "id": "Aftb0g--Wp39"
      },
      "execution_count": null,
      "outputs": []
    },
    {
      "cell_type": "code",
      "source": [
        "# number of characters and points\n",
        "df['num_characters'] = df['description'].str.len()\n",
        "df.corr()"
      ],
      "metadata": {
        "id": "_9u-Pef1W2_0"
      },
      "execution_count": null,
      "outputs": []
    },
    {
      "cell_type": "code",
      "source": [
        "# Which region in Oregon produces the best wine, on average?\n",
        "df['region'] = df['title'].str.extract('\\((.+)\\)')[0]"
      ],
      "metadata": {
        "id": "ncXzrgvsXcVh"
      },
      "execution_count": null,
      "outputs": []
    },
    {
      "cell_type": "code",
      "source": [
        "df.loc[df['province'] == 'Sicily & Sardinia'].groupby('region').agg({'points': 'mean'}).sort_values(by='points')"
      ],
      "metadata": {
        "id": "npY7lCk0Y8_z"
      },
      "execution_count": null,
      "outputs": []
    },
    {
      "cell_type": "code",
      "source": [],
      "metadata": {
        "id": "eNCDWdHhZEXO"
      },
      "execution_count": null,
      "outputs": []
    }
  ]
}